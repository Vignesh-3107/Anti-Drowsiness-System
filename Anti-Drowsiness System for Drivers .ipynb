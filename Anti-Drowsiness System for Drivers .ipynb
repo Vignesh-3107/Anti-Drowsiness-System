{
 "cells": [
  {
   "cell_type": "markdown",
   "id": "8f1cd5bf",
   "metadata": {},
   "source": [
    "# Anti-Drowsiness System \n",
    "\n",
    "### Team: Positive Waves"
   ]
  },
  {
   "cell_type": "markdown",
   "id": "61f30bd5",
   "metadata": {},
   "source": [
    "### Importing Required Library"
   ]
  },
  {
   "cell_type": "code",
   "execution_count": 1,
   "id": "cf8d22c1",
   "metadata": {},
   "outputs": [],
   "source": [
    "from scipy.spatial import distance\n",
    "from imutils import face_utils\n",
    "import imutils\n",
    "import dlib\n",
    "import cv2\n",
    "import time\n",
    "import serial\n",
    "import pyttsx3"
   ]
  },
  {
   "cell_type": "markdown",
   "id": "e4e579be",
   "metadata": {},
   "source": [
    "### Creating Function "
   ]
  },
  {
   "cell_type": "code",
   "execution_count": 2,
   "id": "4827e09b",
   "metadata": {},
   "outputs": [],
   "source": [
    "def eye_ratio(eye):\n",
    "    A = distance.euclidean(eye[1], eye[5])\n",
    "    B = distance.euclidean(eye[2], eye[4])\n",
    "    C = distance.euclidean(eye[0], eye[3])\n",
    "    ear = (A + B) / (2.0 * C)\n",
    "    return ear\n",
    "def im_ai():\n",
    "    engine = pyttsx3.init()\n",
    "    engine.setProperty(\"rate\", 120)\n",
    "    engine.say(\"Hello Driver I am your Anti Drowsiness System Aura \")\n",
    "    engine.runAndWait()\n",
    "\n",
    "def check_one(count):\n",
    "    if count>1:\n",
    "        ser=serial.Serial('COM7', 9600, timeout=1)\n",
    "        ser.write(b'H')\n",
    "        engine = pyttsx3.init()\n",
    "        engine.setProperty(\"rate\", 158)\n",
    "        engine.say(\"Driver in Drowsy\")\n",
    "        engine.runAndWait()\n",
    "        \n",
    "def check_zero(count):\n",
    "        ser=serial.Serial('COM7', 9600, timeout=1)\n",
    "        ser.write(b'L') \n",
    "        if count==15:\n",
    "            engine = pyttsx3.init()\n",
    "            engine.setProperty(\"rate\", 158)\n",
    "            engine.say(\"Driver is Active\")\n",
    "            engine.runAndWait()"
   ]
  },
  {
   "cell_type": "markdown",
   "id": "1bae4524",
   "metadata": {},
   "source": [
    "### Capturing and Activating System"
   ]
  },
  {
   "cell_type": "code",
   "execution_count": 3,
   "id": "05268982",
   "metadata": {},
   "outputs": [],
   "source": [
    "threshold = 0.25\n",
    "check = 70\n",
    "detect = dlib.get_frontal_face_detector()\n",
    "predict = dlib.shape_predictor(\"shape_predictor_68_face_landmarks.dat\")\n",
    "(lStart, lEnd) = face_utils.FACIAL_LANDMARKS_68_IDXS[\"left_eye\"]\n",
    "(rStart, rEnd) = face_utils.FACIAL_LANDMARKS_68_IDXS[\"right_eye\"]\n",
    "capaturing=cv2.VideoCapture(0)\n",
    "flag=0\n",
    "count_one=0\n",
    "count_zero=0\n",
    "im_ai()\n",
    "while True:\n",
    "    ret, frame=capaturing.read()\n",
    "    frame = imutils.resize(frame, width=500)\n",
    "    gray = cv2.cvtColor(frame, cv2.COLOR_BGR2GRAY)\n",
    "    subjects = detect(gray, 0)\n",
    "    for subject in subjects:\n",
    "        shape = predict(gray, subject)\n",
    "        shape = face_utils.shape_to_np(shape)\n",
    "        leftEye = shape[lStart:lEnd]\n",
    "        rightEye = shape[rStart:rEnd]\n",
    "        leftEAR = eye_ratio(leftEye)\n",
    "        rightEAR = eye_ratio(rightEye)\n",
    "        ear = (leftEAR + rightEAR) / 2.0\n",
    "        leftEyeHull = cv2.convexHull(leftEye)\n",
    "        rightEyeHull = cv2.convexHull(rightEye)\n",
    "        cv2.drawContours(frame, [leftEyeHull], -1, (0, 255, 0), 1)\n",
    "        cv2.drawContours(frame, [rightEyeHull], -1, (0, 255, 0), 1)\n",
    "        if ear < threshold:\n",
    "                flag += 1\n",
    "                if flag >= check:\n",
    "                    count_one+=1\n",
    "                    count_zero=0\n",
    "                    cv2.putText(frame, \"***ALERT!***\", (10, 30),cv2.FONT_HERSHEY_COMPLEX, 0.7, (0, 0, 255), 2)\n",
    "                    cv2.putText(frame, \"Driver in Drowsy\", (10,365),cv2.FONT_HERSHEY_COMPLEX, 0.7, (0, 0, 255), 2)\n",
    "                    check_one(count_one)\n",
    "                    \n",
    "                elif flag<=check and flag<15:\n",
    "                    cv2.putText(frame, \"***NORMAL***\", (10, 30),cv2.FONT_HERSHEY_COMPLEX, 0.7, (255, 255, 0), 2)\n",
    "                    cv2.putText(frame, \"Driver is Blinking\", (10,365),cv2.FONT_HERSHEY_COMPLEX, 0.7, (255, 255, 0), 2)\n",
    "                else:\n",
    "                    cv2.putText(frame, \"***MODERATE***\", (10, 30),cv2.FONT_HERSHEY_COMPLEX, 0.7, (255, 0, 0), 2)\n",
    "                    cv2.putText(frame, \"Driver Going to Sleep\", (10,365),cv2.FONT_HERSHEY_COMPLEX, 0.7, (255, 0, 0), 2)  \n",
    "        else:\n",
    "            flag = 0\n",
    "            count_one=0\n",
    "            count_zero+=1\n",
    "            check_zero(count_zero)\n",
    "            cv2.putText(frame, \"***NORMAL***\", (10, 30),cv2.FONT_HERSHEY_COMPLEX, 0.7, (0,255,0), 2)\n",
    "            cv2.putText(frame, \"Focus in Driving\", (10,365),cv2.FONT_HERSHEY_COMPLEX, 0.7, (0,255, 0), 2)\n",
    "    cv2.imshow(\"Drowsiness Window\", frame)\n",
    "    key = cv2.waitKey(1) & 0xFF\n",
    "    if key == 27:\n",
    "        cv2.destroyAllWindows()\n",
    "        capaturing.release() \n",
    "        break"
   ]
  },
  {
   "cell_type": "markdown",
   "id": "9cc9ffe8",
   "metadata": {},
   "source": [
    "#### ******* END ****** "
   ]
  }
 ],
 "metadata": {
  "kernelspec": {
   "display_name": "Python 3 (ipykernel)",
   "language": "python",
   "name": "python3"
  },
  "language_info": {
   "codemirror_mode": {
    "name": "ipython",
    "version": 3
   },
   "file_extension": ".py",
   "mimetype": "text/x-python",
   "name": "python",
   "nbconvert_exporter": "python",
   "pygments_lexer": "ipython3",
   "version": "3.8.13"
  }
 },
 "nbformat": 4,
 "nbformat_minor": 5
}
